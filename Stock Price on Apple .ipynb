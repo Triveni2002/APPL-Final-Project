{
 "cells": [
  {
   "cell_type": "code",
   "execution_count": 1,
   "id": "e69fa2f3",
   "metadata": {},
   "outputs": [],
   "source": [
    "import numpy as np\n",
    "import pandas as pd\n",
    "import matplotlib.pyplot as plt\n",
    "import seaborn as sns\n",
    "\n",
    "from sklearn.linear_model import LogisticRegression\n",
    "from sklearn.ensemble import RandomForestClassifier\n",
    "from sklearn.tree import DecisionTreeClassifier\n"
   ]
  },
  {
   "cell_type": "markdown",
   "id": "08a9fa82",
   "metadata": {},
   "source": [
    "### reading data from csv file"
   ]
  },
  {
   "cell_type": "code",
   "execution_count": 2,
   "id": "4878900b",
   "metadata": {},
   "outputs": [],
   "source": [
    "data1=pd.read_csv(\"AAPL.csv\")"
   ]
  },
  {
   "cell_type": "code",
   "execution_count": 3,
   "id": "256b1a33",
   "metadata": {},
   "outputs": [
    {
     "name": "stdout",
     "output_type": "stream",
     "text": [
      "<class 'pandas.core.frame.DataFrame'>\n",
      "RangeIndex: 10272 entries, 0 to 10271\n",
      "Data columns (total 7 columns):\n",
      " #   Column     Non-Null Count  Dtype  \n",
      "---  ------     --------------  -----  \n",
      " 0   Date       10272 non-null  object \n",
      " 1   Open       10272 non-null  float64\n",
      " 2   High       10272 non-null  float64\n",
      " 3   Low        10272 non-null  float64\n",
      " 4   Close      10272 non-null  float64\n",
      " 5   Adj Close  10272 non-null  float64\n",
      " 6   Volume     10272 non-null  int64  \n",
      "dtypes: float64(5), int64(1), object(1)\n",
      "memory usage: 561.9+ KB\n"
     ]
    }
   ],
   "source": [
    "data1.info()"
   ]
  },
  {
   "cell_type": "code",
   "execution_count": 4,
   "id": "8b0245aa",
   "metadata": {},
   "outputs": [
    {
     "data": {
      "text/html": [
       "<div>\n",
       "<style scoped>\n",
       "    .dataframe tbody tr th:only-of-type {\n",
       "        vertical-align: middle;\n",
       "    }\n",
       "\n",
       "    .dataframe tbody tr th {\n",
       "        vertical-align: top;\n",
       "    }\n",
       "\n",
       "    .dataframe thead th {\n",
       "        text-align: right;\n",
       "    }\n",
       "</style>\n",
       "<table border=\"1\" class=\"dataframe\">\n",
       "  <thead>\n",
       "    <tr style=\"text-align: right;\">\n",
       "      <th></th>\n",
       "      <th>Date</th>\n",
       "      <th>Open</th>\n",
       "      <th>High</th>\n",
       "      <th>Low</th>\n",
       "      <th>Close</th>\n",
       "      <th>Adj Close</th>\n",
       "      <th>Volume</th>\n",
       "    </tr>\n",
       "  </thead>\n",
       "  <tbody>\n",
       "    <tr>\n",
       "      <th>0</th>\n",
       "      <td>1980-12-12</td>\n",
       "      <td>0.128348</td>\n",
       "      <td>0.128906</td>\n",
       "      <td>0.128348</td>\n",
       "      <td>0.128348</td>\n",
       "      <td>0.100600</td>\n",
       "      <td>469033600</td>\n",
       "    </tr>\n",
       "    <tr>\n",
       "      <th>1</th>\n",
       "      <td>1980-12-15</td>\n",
       "      <td>0.122210</td>\n",
       "      <td>0.122210</td>\n",
       "      <td>0.121652</td>\n",
       "      <td>0.121652</td>\n",
       "      <td>0.095352</td>\n",
       "      <td>175884800</td>\n",
       "    </tr>\n",
       "    <tr>\n",
       "      <th>2</th>\n",
       "      <td>1980-12-16</td>\n",
       "      <td>0.113281</td>\n",
       "      <td>0.113281</td>\n",
       "      <td>0.112723</td>\n",
       "      <td>0.112723</td>\n",
       "      <td>0.088353</td>\n",
       "      <td>105728000</td>\n",
       "    </tr>\n",
       "    <tr>\n",
       "      <th>3</th>\n",
       "      <td>1980-12-17</td>\n",
       "      <td>0.115513</td>\n",
       "      <td>0.116071</td>\n",
       "      <td>0.115513</td>\n",
       "      <td>0.115513</td>\n",
       "      <td>0.090540</td>\n",
       "      <td>86441600</td>\n",
       "    </tr>\n",
       "    <tr>\n",
       "      <th>4</th>\n",
       "      <td>1980-12-18</td>\n",
       "      <td>0.118862</td>\n",
       "      <td>0.119420</td>\n",
       "      <td>0.118862</td>\n",
       "      <td>0.118862</td>\n",
       "      <td>0.093165</td>\n",
       "      <td>73449600</td>\n",
       "    </tr>\n",
       "    <tr>\n",
       "      <th>5</th>\n",
       "      <td>1980-12-19</td>\n",
       "      <td>0.126116</td>\n",
       "      <td>0.126674</td>\n",
       "      <td>0.126116</td>\n",
       "      <td>0.126116</td>\n",
       "      <td>0.098851</td>\n",
       "      <td>48630400</td>\n",
       "    </tr>\n",
       "    <tr>\n",
       "      <th>6</th>\n",
       "      <td>1980-12-22</td>\n",
       "      <td>0.132254</td>\n",
       "      <td>0.132813</td>\n",
       "      <td>0.132254</td>\n",
       "      <td>0.132254</td>\n",
       "      <td>0.103662</td>\n",
       "      <td>37363200</td>\n",
       "    </tr>\n",
       "    <tr>\n",
       "      <th>7</th>\n",
       "      <td>1980-12-23</td>\n",
       "      <td>0.137835</td>\n",
       "      <td>0.138393</td>\n",
       "      <td>0.137835</td>\n",
       "      <td>0.137835</td>\n",
       "      <td>0.108036</td>\n",
       "      <td>46950400</td>\n",
       "    </tr>\n",
       "    <tr>\n",
       "      <th>8</th>\n",
       "      <td>1980-12-24</td>\n",
       "      <td>0.145089</td>\n",
       "      <td>0.145647</td>\n",
       "      <td>0.145089</td>\n",
       "      <td>0.145089</td>\n",
       "      <td>0.113722</td>\n",
       "      <td>48003200</td>\n",
       "    </tr>\n",
       "    <tr>\n",
       "      <th>9</th>\n",
       "      <td>1980-12-26</td>\n",
       "      <td>0.158482</td>\n",
       "      <td>0.159040</td>\n",
       "      <td>0.158482</td>\n",
       "      <td>0.158482</td>\n",
       "      <td>0.124219</td>\n",
       "      <td>55574400</td>\n",
       "    </tr>\n",
       "    <tr>\n",
       "      <th>10</th>\n",
       "      <td>1980-12-29</td>\n",
       "      <td>0.160714</td>\n",
       "      <td>0.161272</td>\n",
       "      <td>0.160714</td>\n",
       "      <td>0.160714</td>\n",
       "      <td>0.125969</td>\n",
       "      <td>93161600</td>\n",
       "    </tr>\n",
       "    <tr>\n",
       "      <th>11</th>\n",
       "      <td>1980-12-30</td>\n",
       "      <td>0.157366</td>\n",
       "      <td>0.157366</td>\n",
       "      <td>0.156808</td>\n",
       "      <td>0.156808</td>\n",
       "      <td>0.122907</td>\n",
       "      <td>68880000</td>\n",
       "    </tr>\n",
       "    <tr>\n",
       "      <th>12</th>\n",
       "      <td>1980-12-31</td>\n",
       "      <td>0.152902</td>\n",
       "      <td>0.152902</td>\n",
       "      <td>0.152344</td>\n",
       "      <td>0.152344</td>\n",
       "      <td>0.119408</td>\n",
       "      <td>35750400</td>\n",
       "    </tr>\n",
       "    <tr>\n",
       "      <th>13</th>\n",
       "      <td>1981-01-02</td>\n",
       "      <td>0.154018</td>\n",
       "      <td>0.155134</td>\n",
       "      <td>0.154018</td>\n",
       "      <td>0.154018</td>\n",
       "      <td>0.120720</td>\n",
       "      <td>21660800</td>\n",
       "    </tr>\n",
       "    <tr>\n",
       "      <th>14</th>\n",
       "      <td>1981-01-05</td>\n",
       "      <td>0.151228</td>\n",
       "      <td>0.151228</td>\n",
       "      <td>0.150670</td>\n",
       "      <td>0.150670</td>\n",
       "      <td>0.118096</td>\n",
       "      <td>35728000</td>\n",
       "    </tr>\n",
       "    <tr>\n",
       "      <th>15</th>\n",
       "      <td>1981-01-06</td>\n",
       "      <td>0.144531</td>\n",
       "      <td>0.144531</td>\n",
       "      <td>0.143973</td>\n",
       "      <td>0.143973</td>\n",
       "      <td>0.112847</td>\n",
       "      <td>45158400</td>\n",
       "    </tr>\n",
       "    <tr>\n",
       "      <th>16</th>\n",
       "      <td>1981-01-07</td>\n",
       "      <td>0.138393</td>\n",
       "      <td>0.138393</td>\n",
       "      <td>0.137835</td>\n",
       "      <td>0.137835</td>\n",
       "      <td>0.108036</td>\n",
       "      <td>55686400</td>\n",
       "    </tr>\n",
       "    <tr>\n",
       "      <th>17</th>\n",
       "      <td>1981-01-08</td>\n",
       "      <td>0.135603</td>\n",
       "      <td>0.135603</td>\n",
       "      <td>0.135045</td>\n",
       "      <td>0.135045</td>\n",
       "      <td>0.105849</td>\n",
       "      <td>39827200</td>\n",
       "    </tr>\n",
       "    <tr>\n",
       "      <th>18</th>\n",
       "      <td>1981-01-09</td>\n",
       "      <td>0.142299</td>\n",
       "      <td>0.142857</td>\n",
       "      <td>0.142299</td>\n",
       "      <td>0.142299</td>\n",
       "      <td>0.111535</td>\n",
       "      <td>21504000</td>\n",
       "    </tr>\n",
       "    <tr>\n",
       "      <th>19</th>\n",
       "      <td>1981-01-12</td>\n",
       "      <td>0.142299</td>\n",
       "      <td>0.142299</td>\n",
       "      <td>0.141183</td>\n",
       "      <td>0.141183</td>\n",
       "      <td>0.110660</td>\n",
       "      <td>23699200</td>\n",
       "    </tr>\n",
       "  </tbody>\n",
       "</table>\n",
       "</div>"
      ],
      "text/plain": [
       "          Date      Open      High       Low     Close  Adj Close     Volume\n",
       "0   1980-12-12  0.128348  0.128906  0.128348  0.128348   0.100600  469033600\n",
       "1   1980-12-15  0.122210  0.122210  0.121652  0.121652   0.095352  175884800\n",
       "2   1980-12-16  0.113281  0.113281  0.112723  0.112723   0.088353  105728000\n",
       "3   1980-12-17  0.115513  0.116071  0.115513  0.115513   0.090540   86441600\n",
       "4   1980-12-18  0.118862  0.119420  0.118862  0.118862   0.093165   73449600\n",
       "5   1980-12-19  0.126116  0.126674  0.126116  0.126116   0.098851   48630400\n",
       "6   1980-12-22  0.132254  0.132813  0.132254  0.132254   0.103662   37363200\n",
       "7   1980-12-23  0.137835  0.138393  0.137835  0.137835   0.108036   46950400\n",
       "8   1980-12-24  0.145089  0.145647  0.145089  0.145089   0.113722   48003200\n",
       "9   1980-12-26  0.158482  0.159040  0.158482  0.158482   0.124219   55574400\n",
       "10  1980-12-29  0.160714  0.161272  0.160714  0.160714   0.125969   93161600\n",
       "11  1980-12-30  0.157366  0.157366  0.156808  0.156808   0.122907   68880000\n",
       "12  1980-12-31  0.152902  0.152902  0.152344  0.152344   0.119408   35750400\n",
       "13  1981-01-02  0.154018  0.155134  0.154018  0.154018   0.120720   21660800\n",
       "14  1981-01-05  0.151228  0.151228  0.150670  0.150670   0.118096   35728000\n",
       "15  1981-01-06  0.144531  0.144531  0.143973  0.143973   0.112847   45158400\n",
       "16  1981-01-07  0.138393  0.138393  0.137835  0.137835   0.108036   55686400\n",
       "17  1981-01-08  0.135603  0.135603  0.135045  0.135045   0.105849   39827200\n",
       "18  1981-01-09  0.142299  0.142857  0.142299  0.142299   0.111535   21504000\n",
       "19  1981-01-12  0.142299  0.142299  0.141183  0.141183   0.110660   23699200"
      ]
     },
     "execution_count": 4,
     "metadata": {},
     "output_type": "execute_result"
    }
   ],
   "source": [
    "data1.head(20)"
   ]
  },
  {
   "cell_type": "code",
   "execution_count": 5,
   "id": "1718a3a6",
   "metadata": {
    "scrolled": true
   },
   "outputs": [
    {
     "data": {
      "text/html": [
       "<div>\n",
       "<style scoped>\n",
       "    .dataframe tbody tr th:only-of-type {\n",
       "        vertical-align: middle;\n",
       "    }\n",
       "\n",
       "    .dataframe tbody tr th {\n",
       "        vertical-align: top;\n",
       "    }\n",
       "\n",
       "    .dataframe thead th {\n",
       "        text-align: right;\n",
       "    }\n",
       "</style>\n",
       "<table border=\"1\" class=\"dataframe\">\n",
       "  <thead>\n",
       "    <tr style=\"text-align: right;\">\n",
       "      <th></th>\n",
       "      <th>Open</th>\n",
       "      <th>High</th>\n",
       "      <th>Low</th>\n",
       "      <th>Close</th>\n",
       "      <th>Adj Close</th>\n",
       "      <th>Volume</th>\n",
       "    </tr>\n",
       "  </thead>\n",
       "  <tbody>\n",
       "    <tr>\n",
       "      <th>count</th>\n",
       "      <td>10272.000000</td>\n",
       "      <td>10272.000000</td>\n",
       "      <td>10272.000000</td>\n",
       "      <td>10272.000000</td>\n",
       "      <td>10272.000000</td>\n",
       "      <td>1.027200e+04</td>\n",
       "    </tr>\n",
       "    <tr>\n",
       "      <th>mean</th>\n",
       "      <td>12.006819</td>\n",
       "      <td>12.134860</td>\n",
       "      <td>11.877629</td>\n",
       "      <td>12.011191</td>\n",
       "      <td>11.420584</td>\n",
       "      <td>3.353832e+08</td>\n",
       "    </tr>\n",
       "    <tr>\n",
       "      <th>std</th>\n",
       "      <td>25.111332</td>\n",
       "      <td>25.388548</td>\n",
       "      <td>24.833693</td>\n",
       "      <td>25.123982</td>\n",
       "      <td>24.816645</td>\n",
       "      <td>3.404297e+08</td>\n",
       "    </tr>\n",
       "    <tr>\n",
       "      <th>min</th>\n",
       "      <td>0.049665</td>\n",
       "      <td>0.049665</td>\n",
       "      <td>0.049107</td>\n",
       "      <td>0.049107</td>\n",
       "      <td>0.038490</td>\n",
       "      <td>0.000000e+00</td>\n",
       "    </tr>\n",
       "    <tr>\n",
       "      <th>25%</th>\n",
       "      <td>0.276786</td>\n",
       "      <td>0.284375</td>\n",
       "      <td>0.270089</td>\n",
       "      <td>0.276964</td>\n",
       "      <td>0.232579</td>\n",
       "      <td>1.273552e+08</td>\n",
       "    </tr>\n",
       "    <tr>\n",
       "      <th>50%</th>\n",
       "      <td>0.456451</td>\n",
       "      <td>0.464286</td>\n",
       "      <td>0.446987</td>\n",
       "      <td>0.455357</td>\n",
       "      <td>0.378405</td>\n",
       "      <td>2.233742e+08</td>\n",
       "    </tr>\n",
       "    <tr>\n",
       "      <th>75%</th>\n",
       "      <td>12.687857</td>\n",
       "      <td>12.825715</td>\n",
       "      <td>12.579017</td>\n",
       "      <td>12.687143</td>\n",
       "      <td>10.893390</td>\n",
       "      <td>4.177250e+08</td>\n",
       "    </tr>\n",
       "    <tr>\n",
       "      <th>max</th>\n",
       "      <td>156.979996</td>\n",
       "      <td>157.259995</td>\n",
       "      <td>154.389999</td>\n",
       "      <td>156.690002</td>\n",
       "      <td>156.690002</td>\n",
       "      <td>7.421641e+09</td>\n",
       "    </tr>\n",
       "  </tbody>\n",
       "</table>\n",
       "</div>"
      ],
      "text/plain": [
       "               Open          High           Low         Close     Adj Close  \\\n",
       "count  10272.000000  10272.000000  10272.000000  10272.000000  10272.000000   \n",
       "mean      12.006819     12.134860     11.877629     12.011191     11.420584   \n",
       "std       25.111332     25.388548     24.833693     25.123982     24.816645   \n",
       "min        0.049665      0.049665      0.049107      0.049107      0.038490   \n",
       "25%        0.276786      0.284375      0.270089      0.276964      0.232579   \n",
       "50%        0.456451      0.464286      0.446987      0.455357      0.378405   \n",
       "75%       12.687857     12.825715     12.579017     12.687143     10.893390   \n",
       "max      156.979996    157.259995    154.389999    156.690002    156.690002   \n",
       "\n",
       "             Volume  \n",
       "count  1.027200e+04  \n",
       "mean   3.353832e+08  \n",
       "std    3.404297e+08  \n",
       "min    0.000000e+00  \n",
       "25%    1.273552e+08  \n",
       "50%    2.233742e+08  \n",
       "75%    4.177250e+08  \n",
       "max    7.421641e+09  "
      ]
     },
     "execution_count": 5,
     "metadata": {},
     "output_type": "execute_result"
    }
   ],
   "source": [
    "data1.describe()"
   ]
  },
  {
   "cell_type": "markdown",
   "id": "da4dde80",
   "metadata": {},
   "source": [
    "### checking null values"
   ]
  },
  {
   "cell_type": "code",
   "execution_count": 6,
   "id": "6f712a17",
   "metadata": {},
   "outputs": [
    {
     "data": {
      "text/plain": [
       "Date         0\n",
       "Open         0\n",
       "High         0\n",
       "Low          0\n",
       "Close        0\n",
       "Adj Close    0\n",
       "Volume       0\n",
       "dtype: int64"
      ]
     },
     "execution_count": 6,
     "metadata": {},
     "output_type": "execute_result"
    }
   ],
   "source": [
    "data1.isnull().sum()"
   ]
  },
  {
   "cell_type": "code",
   "execution_count": 7,
   "id": "532428b6",
   "metadata": {},
   "outputs": [
    {
     "data": {
      "text/plain": [
       "Date          object\n",
       "Open         float64\n",
       "High         float64\n",
       "Low          float64\n",
       "Close        float64\n",
       "Adj Close    float64\n",
       "Volume         int64\n",
       "dtype: object"
      ]
     },
     "execution_count": 7,
     "metadata": {},
     "output_type": "execute_result"
    }
   ],
   "source": [
    "data1.dtypes"
   ]
  },
  {
   "cell_type": "markdown",
   "id": "f030c665",
   "metadata": {},
   "source": [
    "### replacing nan values with 0"
   ]
  },
  {
   "cell_type": "code",
   "execution_count": 8,
   "id": "cf518aa9",
   "metadata": {},
   "outputs": [],
   "source": [
    "#handling missing values\n",
    "data1=data1.fillna(method='bfill',axis=0).fillna(0)"
   ]
  },
  {
   "cell_type": "code",
   "execution_count": 9,
   "id": "0dd59d8c",
   "metadata": {},
   "outputs": [
    {
     "data": {
      "text/html": [
       "<div>\n",
       "<style scoped>\n",
       "    .dataframe tbody tr th:only-of-type {\n",
       "        vertical-align: middle;\n",
       "    }\n",
       "\n",
       "    .dataframe tbody tr th {\n",
       "        vertical-align: top;\n",
       "    }\n",
       "\n",
       "    .dataframe thead th {\n",
       "        text-align: right;\n",
       "    }\n",
       "</style>\n",
       "<table border=\"1\" class=\"dataframe\">\n",
       "  <thead>\n",
       "    <tr style=\"text-align: right;\">\n",
       "      <th></th>\n",
       "      <th>Date</th>\n",
       "      <th>Open</th>\n",
       "      <th>High</th>\n",
       "      <th>Low</th>\n",
       "      <th>Close</th>\n",
       "      <th>Adj Close</th>\n",
       "      <th>Volume</th>\n",
       "    </tr>\n",
       "  </thead>\n",
       "  <tbody>\n",
       "    <tr>\n",
       "      <th>0</th>\n",
       "      <td>1980-12-12</td>\n",
       "      <td>0.128348</td>\n",
       "      <td>0.128906</td>\n",
       "      <td>0.128348</td>\n",
       "      <td>0.128348</td>\n",
       "      <td>0.100600</td>\n",
       "      <td>469033600</td>\n",
       "    </tr>\n",
       "    <tr>\n",
       "      <th>1</th>\n",
       "      <td>1980-12-15</td>\n",
       "      <td>0.122210</td>\n",
       "      <td>0.122210</td>\n",
       "      <td>0.121652</td>\n",
       "      <td>0.121652</td>\n",
       "      <td>0.095352</td>\n",
       "      <td>175884800</td>\n",
       "    </tr>\n",
       "    <tr>\n",
       "      <th>2</th>\n",
       "      <td>1980-12-16</td>\n",
       "      <td>0.113281</td>\n",
       "      <td>0.113281</td>\n",
       "      <td>0.112723</td>\n",
       "      <td>0.112723</td>\n",
       "      <td>0.088353</td>\n",
       "      <td>105728000</td>\n",
       "    </tr>\n",
       "    <tr>\n",
       "      <th>3</th>\n",
       "      <td>1980-12-17</td>\n",
       "      <td>0.115513</td>\n",
       "      <td>0.116071</td>\n",
       "      <td>0.115513</td>\n",
       "      <td>0.115513</td>\n",
       "      <td>0.090540</td>\n",
       "      <td>86441600</td>\n",
       "    </tr>\n",
       "    <tr>\n",
       "      <th>4</th>\n",
       "      <td>1980-12-18</td>\n",
       "      <td>0.118862</td>\n",
       "      <td>0.119420</td>\n",
       "      <td>0.118862</td>\n",
       "      <td>0.118862</td>\n",
       "      <td>0.093165</td>\n",
       "      <td>73449600</td>\n",
       "    </tr>\n",
       "    <tr>\n",
       "      <th>...</th>\n",
       "      <td>...</td>\n",
       "      <td>...</td>\n",
       "      <td>...</td>\n",
       "      <td>...</td>\n",
       "      <td>...</td>\n",
       "      <td>...</td>\n",
       "      <td>...</td>\n",
       "    </tr>\n",
       "    <tr>\n",
       "      <th>10267</th>\n",
       "      <td>2021-09-01</td>\n",
       "      <td>152.830002</td>\n",
       "      <td>154.979996</td>\n",
       "      <td>152.339996</td>\n",
       "      <td>152.509995</td>\n",
       "      <td>152.509995</td>\n",
       "      <td>80313700</td>\n",
       "    </tr>\n",
       "    <tr>\n",
       "      <th>10268</th>\n",
       "      <td>2021-09-02</td>\n",
       "      <td>153.869995</td>\n",
       "      <td>154.720001</td>\n",
       "      <td>152.399994</td>\n",
       "      <td>153.649994</td>\n",
       "      <td>153.649994</td>\n",
       "      <td>71115500</td>\n",
       "    </tr>\n",
       "    <tr>\n",
       "      <th>10269</th>\n",
       "      <td>2021-09-03</td>\n",
       "      <td>153.759995</td>\n",
       "      <td>154.630005</td>\n",
       "      <td>153.089996</td>\n",
       "      <td>154.300003</td>\n",
       "      <td>154.300003</td>\n",
       "      <td>57808700</td>\n",
       "    </tr>\n",
       "    <tr>\n",
       "      <th>10270</th>\n",
       "      <td>2021-09-07</td>\n",
       "      <td>154.970001</td>\n",
       "      <td>157.259995</td>\n",
       "      <td>154.389999</td>\n",
       "      <td>156.690002</td>\n",
       "      <td>156.690002</td>\n",
       "      <td>82278300</td>\n",
       "    </tr>\n",
       "    <tr>\n",
       "      <th>10271</th>\n",
       "      <td>2021-09-08</td>\n",
       "      <td>156.979996</td>\n",
       "      <td>157.039993</td>\n",
       "      <td>153.979996</td>\n",
       "      <td>155.110001</td>\n",
       "      <td>155.110001</td>\n",
       "      <td>74347200</td>\n",
       "    </tr>\n",
       "  </tbody>\n",
       "</table>\n",
       "<p>10272 rows × 7 columns</p>\n",
       "</div>"
      ],
      "text/plain": [
       "             Date        Open        High         Low       Close   Adj Close  \\\n",
       "0      1980-12-12    0.128348    0.128906    0.128348    0.128348    0.100600   \n",
       "1      1980-12-15    0.122210    0.122210    0.121652    0.121652    0.095352   \n",
       "2      1980-12-16    0.113281    0.113281    0.112723    0.112723    0.088353   \n",
       "3      1980-12-17    0.115513    0.116071    0.115513    0.115513    0.090540   \n",
       "4      1980-12-18    0.118862    0.119420    0.118862    0.118862    0.093165   \n",
       "...           ...         ...         ...         ...         ...         ...   \n",
       "10267  2021-09-01  152.830002  154.979996  152.339996  152.509995  152.509995   \n",
       "10268  2021-09-02  153.869995  154.720001  152.399994  153.649994  153.649994   \n",
       "10269  2021-09-03  153.759995  154.630005  153.089996  154.300003  154.300003   \n",
       "10270  2021-09-07  154.970001  157.259995  154.389999  156.690002  156.690002   \n",
       "10271  2021-09-08  156.979996  157.039993  153.979996  155.110001  155.110001   \n",
       "\n",
       "          Volume  \n",
       "0      469033600  \n",
       "1      175884800  \n",
       "2      105728000  \n",
       "3       86441600  \n",
       "4       73449600  \n",
       "...          ...  \n",
       "10267   80313700  \n",
       "10268   71115500  \n",
       "10269   57808700  \n",
       "10270   82278300  \n",
       "10271   74347200  \n",
       "\n",
       "[10272 rows x 7 columns]"
      ]
     },
     "execution_count": 9,
     "metadata": {},
     "output_type": "execute_result"
    }
   ],
   "source": [
    "data1"
   ]
  },
  {
   "cell_type": "code",
   "execution_count": 10,
   "id": "8395627f",
   "metadata": {},
   "outputs": [],
   "source": [
    "date=data1['Date'].head(50)\n",
    "open=data1['Open'].head(50)\n",
    "high=data1['High'].head(50)\n",
    "low=data1['Low'].head(50)"
   ]
  },
  {
   "cell_type": "code",
   "execution_count": 11,
   "id": "e566f294",
   "metadata": {},
   "outputs": [
    {
     "data": {
      "text/plain": [
       "0     1980-12-12\n",
       "1     1980-12-15\n",
       "2     1980-12-16\n",
       "3     1980-12-17\n",
       "4     1980-12-18\n",
       "5     1980-12-19\n",
       "6     1980-12-22\n",
       "7     1980-12-23\n",
       "8     1980-12-24\n",
       "9     1980-12-26\n",
       "10    1980-12-29\n",
       "11    1980-12-30\n",
       "12    1980-12-31\n",
       "13    1981-01-02\n",
       "14    1981-01-05\n",
       "15    1981-01-06\n",
       "16    1981-01-07\n",
       "17    1981-01-08\n",
       "18    1981-01-09\n",
       "19    1981-01-12\n",
       "20    1981-01-13\n",
       "21    1981-01-14\n",
       "22    1981-01-15\n",
       "23    1981-01-16\n",
       "24    1981-01-19\n",
       "25    1981-01-20\n",
       "26    1981-01-21\n",
       "27    1981-01-22\n",
       "28    1981-01-23\n",
       "29    1981-01-26\n",
       "30    1981-01-27\n",
       "31    1981-01-28\n",
       "32    1981-01-29\n",
       "33    1981-01-30\n",
       "34    1981-02-02\n",
       "35    1981-02-03\n",
       "36    1981-02-04\n",
       "37    1981-02-05\n",
       "38    1981-02-06\n",
       "39    1981-02-09\n",
       "40    1981-02-10\n",
       "41    1981-02-11\n",
       "42    1981-02-12\n",
       "43    1981-02-13\n",
       "44    1981-02-17\n",
       "45    1981-02-18\n",
       "46    1981-02-19\n",
       "47    1981-02-20\n",
       "48    1981-02-23\n",
       "49    1981-02-24\n",
       "Name: Date, dtype: object"
      ]
     },
     "execution_count": 11,
     "metadata": {},
     "output_type": "execute_result"
    }
   ],
   "source": [
    "date"
   ]
  },
  {
   "cell_type": "code",
   "execution_count": 12,
   "id": "57b41d5b",
   "metadata": {},
   "outputs": [
    {
     "data": {
      "text/plain": [
       "0     0.128348\n",
       "1     0.122210\n",
       "2     0.113281\n",
       "3     0.115513\n",
       "4     0.118862\n",
       "5     0.126116\n",
       "6     0.132254\n",
       "7     0.137835\n",
       "8     0.145089\n",
       "9     0.158482\n",
       "10    0.160714\n",
       "11    0.157366\n",
       "12    0.152902\n",
       "13    0.154018\n",
       "14    0.151228\n",
       "15    0.144531\n",
       "16    0.138393\n",
       "17    0.135603\n",
       "18    0.142299\n",
       "19    0.142299\n",
       "20    0.136719\n",
       "21    0.136719\n",
       "22    0.139509\n",
       "23    0.138951\n",
       "24    0.146763\n",
       "25    0.142857\n",
       "26    0.145089\n",
       "27    0.146763\n",
       "28    0.146763\n",
       "29    0.144531\n",
       "30    0.143973\n",
       "31    0.138951\n",
       "32    0.133929\n",
       "33    0.127232\n",
       "34    0.119420\n",
       "35    0.123326\n",
       "36    0.127790\n",
       "37    0.127790\n",
       "38    0.128348\n",
       "39    0.122768\n",
       "40    0.121652\n",
       "41    0.118304\n",
       "42    0.117188\n",
       "43    0.114955\n",
       "44    0.116629\n",
       "45    0.121652\n",
       "46    0.114955\n",
       "47    0.108817\n",
       "48    0.109933\n",
       "49    0.107143\n",
       "Name: Open, dtype: float64"
      ]
     },
     "execution_count": 12,
     "metadata": {},
     "output_type": "execute_result"
    }
   ],
   "source": [
    "open"
   ]
  },
  {
   "cell_type": "code",
   "execution_count": 13,
   "id": "a5d84f2d",
   "metadata": {},
   "outputs": [
    {
     "data": {
      "text/plain": [
       "0     0.128906\n",
       "1     0.122210\n",
       "2     0.113281\n",
       "3     0.116071\n",
       "4     0.119420\n",
       "5     0.126674\n",
       "6     0.132813\n",
       "7     0.138393\n",
       "8     0.145647\n",
       "9     0.159040\n",
       "10    0.161272\n",
       "11    0.157366\n",
       "12    0.152902\n",
       "13    0.155134\n",
       "14    0.151228\n",
       "15    0.144531\n",
       "16    0.138393\n",
       "17    0.135603\n",
       "18    0.142857\n",
       "19    0.142299\n",
       "20    0.136719\n",
       "21    0.137277\n",
       "22    0.140625\n",
       "23    0.138951\n",
       "24    0.147321\n",
       "25    0.142857\n",
       "26    0.146205\n",
       "27    0.147879\n",
       "28    0.147321\n",
       "29    0.144531\n",
       "30    0.143973\n",
       "31    0.138951\n",
       "32    0.133929\n",
       "33    0.127232\n",
       "34    0.119420\n",
       "35    0.123884\n",
       "36    0.128348\n",
       "37    0.128906\n",
       "38    0.128906\n",
       "39    0.122768\n",
       "40    0.122210\n",
       "41    0.118304\n",
       "42    0.117188\n",
       "43    0.114955\n",
       "44    0.117188\n",
       "45    0.122768\n",
       "46    0.114955\n",
       "47    0.108817\n",
       "48    0.110491\n",
       "49    0.107143\n",
       "Name: High, dtype: float64"
      ]
     },
     "execution_count": 13,
     "metadata": {},
     "output_type": "execute_result"
    }
   ],
   "source": [
    "high"
   ]
  },
  {
   "cell_type": "code",
   "execution_count": 14,
   "id": "208ec29d",
   "metadata": {},
   "outputs": [
    {
     "data": {
      "text/plain": [
       "0     0.128348\n",
       "1     0.121652\n",
       "2     0.112723\n",
       "3     0.115513\n",
       "4     0.118862\n",
       "5     0.126116\n",
       "6     0.132254\n",
       "7     0.137835\n",
       "8     0.145089\n",
       "9     0.158482\n",
       "10    0.160714\n",
       "11    0.156808\n",
       "12    0.152344\n",
       "13    0.154018\n",
       "14    0.150670\n",
       "15    0.143973\n",
       "16    0.137835\n",
       "17    0.135045\n",
       "18    0.142299\n",
       "19    0.141183\n",
       "20    0.136161\n",
       "21    0.136719\n",
       "22    0.139509\n",
       "23    0.138393\n",
       "24    0.146763\n",
       "25    0.142299\n",
       "26    0.145089\n",
       "27    0.146763\n",
       "28    0.146205\n",
       "29    0.143973\n",
       "30    0.142857\n",
       "31    0.138393\n",
       "32    0.133371\n",
       "33    0.126116\n",
       "34    0.118862\n",
       "35    0.123326\n",
       "36    0.127790\n",
       "37    0.127790\n",
       "38    0.128348\n",
       "39    0.121652\n",
       "40    0.121652\n",
       "41    0.117746\n",
       "42    0.116629\n",
       "43    0.113839\n",
       "44    0.116629\n",
       "45    0.121652\n",
       "46    0.114397\n",
       "47    0.108259\n",
       "48    0.109933\n",
       "49    0.106027\n",
       "Name: Low, dtype: float64"
      ]
     },
     "execution_count": 14,
     "metadata": {},
     "output_type": "execute_result"
    }
   ],
   "source": [
    "low"
   ]
  },
  {
   "cell_type": "code",
   "execution_count": 15,
   "id": "73dd784e",
   "metadata": {},
   "outputs": [
    {
     "data": {
      "text/plain": [
       "Index(['Date', 'Open', 'High', 'Low', 'Close', 'Adj Close', 'Volume'], dtype='object')"
      ]
     },
     "execution_count": 15,
     "metadata": {},
     "output_type": "execute_result"
    }
   ],
   "source": [
    "data1.columns"
   ]
  },
  {
   "cell_type": "markdown",
   "id": "2a23526c",
   "metadata": {},
   "source": [
    "### Data visualisation"
   ]
  },
  {
   "cell_type": "code",
   "execution_count": 16,
   "id": "9b32afdd",
   "metadata": {},
   "outputs": [
    {
     "data": {
      "image/png": "[encoded data removed]",
      "text/plain": [
       "<Figure size 432x288 with 1 Axes>"
      ]
     },
     "metadata": {
      "needs_background": "light"
     },
     "output_type": "display_data"
    }
   ],
   "source": [
    "#Data Visualization using Matplotlib\n",
    "plt.title(\"Scatter Plot b/w Date and High\",fontsize=15)\n",
    "plt.xlabel(\"Date\",fontsize=15)\n",
    "plt.ylabel(\"High\",fontsize=15)\n",
    "plt.scatter(date,high,c='blue',s=50)\n",
    "plt.show()"
   ]
  },
  {
   "cell_type": "code",
   "execution_count": 17,
   "id": "0a7773a6",
   "metadata": {},
   "outputs": [
    {
     "data": {
      "image/png": "[encoded data removed]",
      "text/plain": [
       "<Figure size 360x360 with 1 Axes>"
      ]
     },
     "metadata": {
      "needs_background": "light"
     },
     "output_type": "display_data"
    }
   ],
   "source": [
    "#Data Visualisation Using seaborn\n",
    "sns.relplot(data=data1,x=\"High\",y=\"Low\")\n",
    "plt.title(\"Relplot b/w High and Low\")\n",
    "plt.show()"
   ]
  },
  {
   "cell_type": "code",
   "execution_count": 18,
   "id": "1bb3c877",
   "metadata": {},
   "outputs": [
    {
     "data": {
      "image/png": "[encoded data removed]",
      "text/plain": [
       "<Figure size 2520x720 with 4 Axes>"
      ]
     },
     "metadata": {
      "needs_background": "light"
     },
     "output_type": "display_data"
    }
   ],
   "source": [
    "data =data1.sample(10)\n",
    "fig, axes=plt.subplots(nrows=4, ncols=4,figsize = (35, 10))\n",
    "x = data['Date']\n",
    "y = data['High']\n",
    "plt.subplot(2,2,1)\n",
    "plt.xlabel(\"Date\")\n",
    "plt.ylabel(\"High\")\n",
    "plt.title(\"Date_vs_High\")\n",
    "plt.plot(x,y)\n",
    "plt.subplot(2,2,2)\n",
    "x = data['High']\n",
    "y = data['Low']\n",
    "plt.xlabel(\"High\")\n",
    "plt.ylabel(\"Low\")\n",
    "plt.title(\"High_vs_Low\")\n",
    "plt.plot(x,y)\n",
    "plt.subplot(2,2,3)\n",
    "x = data['Low']\n",
    "y = data['Open']\n",
    "plt.xlabel(\"Low\")\n",
    "plt.ylabel(\"Open\")\n",
    "plt.title(\"Low_vs_Open\")\n",
    "plt.plot(x,y)\n",
    "plt.subplot(2,2,4)\n",
    "x = data['Open']\n",
    "y = data['Date']\n",
    "plt.xlabel(\"Open\")\n",
    "plt.ylabel(\"Date\")\n",
    "plt.title(\"Open_vs_Date\")\n",
    "plt.plot(x,y)\n",
    "plt.show()\n"
   ]
  },
  {
   "cell_type": "code",
   "execution_count": 19,
   "id": "f364917f",
   "metadata": {},
   "outputs": [],
   "source": [
    "data1 = data1.drop('Date',axis=1)"
   ]
  },
  {
   "cell_type": "code",
   "execution_count": 20,
   "id": "ad69fa87",
   "metadata": {},
   "outputs": [],
   "source": [
    "X = data1.drop(\"Volume\", axis=1)\n",
    "y = data1[\"Volume\"]\n"
   ]
  },
  {
   "cell_type": "code",
   "execution_count": 21,
   "id": "2dfbef88",
   "metadata": {},
   "outputs": [
    {
     "data": {
      "text/html": [
       "<div>\n",
       "<style scoped>\n",
       "    .dataframe tbody tr th:only-of-type {\n",
       "        vertical-align: middle;\n",
       "    }\n",
       "\n",
       "    .dataframe tbody tr th {\n",
       "        vertical-align: top;\n",
       "    }\n",
       "\n",
       "    .dataframe thead th {\n",
       "        text-align: right;\n",
       "    }\n",
       "</style>\n",
       "<table border=\"1\" class=\"dataframe\">\n",
       "  <thead>\n",
       "    <tr style=\"text-align: right;\">\n",
       "      <th></th>\n",
       "      <th>Open</th>\n",
       "      <th>High</th>\n",
       "      <th>Low</th>\n",
       "      <th>Close</th>\n",
       "      <th>Adj Close</th>\n",
       "    </tr>\n",
       "  </thead>\n",
       "  <tbody>\n",
       "    <tr>\n",
       "      <th>0</th>\n",
       "      <td>0.128348</td>\n",
       "      <td>0.128906</td>\n",
       "      <td>0.128348</td>\n",
       "      <td>0.128348</td>\n",
       "      <td>0.100600</td>\n",
       "    </tr>\n",
       "    <tr>\n",
       "      <th>1</th>\n",
       "      <td>0.122210</td>\n",
       "      <td>0.122210</td>\n",
       "      <td>0.121652</td>\n",
       "      <td>0.121652</td>\n",
       "      <td>0.095352</td>\n",
       "    </tr>\n",
       "    <tr>\n",
       "      <th>2</th>\n",
       "      <td>0.113281</td>\n",
       "      <td>0.113281</td>\n",
       "      <td>0.112723</td>\n",
       "      <td>0.112723</td>\n",
       "      <td>0.088353</td>\n",
       "    </tr>\n",
       "    <tr>\n",
       "      <th>3</th>\n",
       "      <td>0.115513</td>\n",
       "      <td>0.116071</td>\n",
       "      <td>0.115513</td>\n",
       "      <td>0.115513</td>\n",
       "      <td>0.090540</td>\n",
       "    </tr>\n",
       "    <tr>\n",
       "      <th>4</th>\n",
       "      <td>0.118862</td>\n",
       "      <td>0.119420</td>\n",
       "      <td>0.118862</td>\n",
       "      <td>0.118862</td>\n",
       "      <td>0.093165</td>\n",
       "    </tr>\n",
       "  </tbody>\n",
       "</table>\n",
       "</div>"
      ],
      "text/plain": [
       "       Open      High       Low     Close  Adj Close\n",
       "0  0.128348  0.128906  0.128348  0.128348   0.100600\n",
       "1  0.122210  0.122210  0.121652  0.121652   0.095352\n",
       "2  0.113281  0.113281  0.112723  0.112723   0.088353\n",
       "3  0.115513  0.116071  0.115513  0.115513   0.090540\n",
       "4  0.118862  0.119420  0.118862  0.118862   0.093165"
      ]
     },
     "execution_count": 21,
     "metadata": {},
     "output_type": "execute_result"
    }
   ],
   "source": [
    "X.head()"
   ]
  },
  {
   "cell_type": "code",
   "execution_count": 22,
   "id": "b010978d",
   "metadata": {},
   "outputs": [
    {
     "data": {
      "text/plain": [
       "0    469033600\n",
       "1    175884800\n",
       "2    105728000\n",
       "3     86441600\n",
       "4     73449600\n",
       "Name: Volume, dtype: int64"
      ]
     },
     "execution_count": 22,
     "metadata": {},
     "output_type": "execute_result"
    }
   ],
   "source": [
    "y.head()"
   ]
  },
  {
   "cell_type": "markdown",
   "id": "9f45acbd",
   "metadata": {},
   "source": [
    "### Splitting dataset into test and train"
   ]
  },
  {
   "cell_type": "code",
   "execution_count": 23,
   "id": "7c893378",
   "metadata": {},
   "outputs": [],
   "source": [
    "from sklearn.model_selection import train_test_split\n",
    "X_train, X_test, y_train, y_test = train_test_split(X,y,test_size=0.3, random_state=42)"
   ]
  },
  {
   "cell_type": "code",
   "execution_count": 24,
   "id": "33008833",
   "metadata": {},
   "outputs": [
    {
     "data": {
      "text/plain": [
       "(7190, 3082)"
      ]
     },
     "execution_count": 24,
     "metadata": {},
     "output_type": "execute_result"
    }
   ],
   "source": [
    "len(X_train),len(X_test)"
   ]
  },
  {
   "cell_type": "code",
   "execution_count": 25,
   "id": "6e390d98",
   "metadata": {},
   "outputs": [],
   "source": [
    "from sklearn.preprocessing import StandardScaler\n",
    "scaler = StandardScaler()\n",
    "X_train = scaler.fit_transform(X_train, y_train)\n",
    "X_test = scaler.transform(X_test)"
   ]
  },
  {
   "cell_type": "markdown",
   "id": "c97064b1",
   "metadata": {},
   "source": [
    "### Logistic Regression"
   ]
  },
  {
   "cell_type": "code",
   "execution_count": null,
   "id": "b5143e51",
   "metadata": {},
   "outputs": [],
   "source": [
    "from sklearn.linear_model import LogisticRegression\n",
    "mod = LogisticRegression()\n",
    "mod.fit(X_train, y_train)\n"
   ]
  },
  {
   "cell_type": "code",
   "execution_count": null,
   "id": "de7d385d",
   "metadata": {},
   "outputs": [],
   "source": [
    "LogisticRegressionScore = mod.score(X_test, y_test)"
   ]
  },
  {
   "cell_type": "code",
   "execution_count": 29,
   "id": "820aec45",
   "metadata": {},
   "outputs": [
    {
     "data": {
      "text/plain": [
       "array([[137,  20],\n",
       "       [ 63,  48]], dtype=int64)"
      ]
     },
     "execution_count": 29,
     "metadata": {},
     "output_type": "execute_result"
    }
   ],
   "source": [
    "from sklearn.metrics import confusion_matrix, classification_report\n",
    "y_pred_mod = mod.predict(X_test)\n",
    "cf_matrix = confusion_matrix(y_test,y_pred_mod)\n",
    "cf_matrix"
   ]
  },
  {
   "cell_type": "code",
   "execution_count": 30,
   "id": "4621a778",
   "metadata": {},
   "outputs": [
    {
     "data": {
      "text/plain": [
       "Text(0.5, 1.06, 'Confusion Matrix for Logistic Regression')"
      ]
     },
     "execution_count": 30,
     "metadata": {},
     "output_type": "execute_result"
    },
    {
     "data": {
      "image/png": "[encoded data removed]",
      "text/plain": [
       "<Figure size 432x288 with 2 Axes>"
      ]
     },
     "metadata": {
      "needs_background": "light"
     },
     "output_type": "display_data"
    }
   ],
   "source": [
    "sns.heatmap(cf_matrix, annot=True, cmap='inferno_r')\n",
    "plt.title('Confusion Matrix for Logistic Regression',fontsize=12, y=1.06)"
   ]
  },
  {
   "cell_type": "code",
   "execution_count": 31,
   "id": "f87010a8",
   "metadata": {},
   "outputs": [
    {
     "name": "stdout",
     "output_type": "stream",
     "text": [
      "              precision    recall  f1-score   support\n",
      "\n",
      "           0       0.69      0.87      0.77       157\n",
      "           1       0.71      0.43      0.54       111\n",
      "\n",
      "    accuracy                           0.69       268\n",
      "   macro avg       0.70      0.65      0.65       268\n",
      "weighted avg       0.69      0.69      0.67       268\n",
      "\n"
     ]
    }
   ],
   "source": [
    "from sklearn import metrics\n",
    "print(metrics.classification_report(y_test, y_pred_mod))"
   ]
  },
  {
   "cell_type": "code",
   "execution_count": 32,
   "id": "87faf25e",
   "metadata": {},
   "outputs": [
    {
     "data": {
      "text/plain": [
       "69.02985074626866"
      ]
     },
     "execution_count": 32,
     "metadata": {},
     "output_type": "execute_result"
    }
   ],
   "source": [
    "LogisticRegressionScore*100"
   ]
  },
  {
   "cell_type": "markdown",
   "id": "72b879fd",
   "metadata": {},
   "source": [
    "### Random Forest Classifier"
   ]
  },
  {
   "cell_type": "code",
   "execution_count": 33,
   "id": "1d507964",
   "metadata": {},
   "outputs": [
    {
     "data": {
      "text/plain": [
       "RandomForestClassifier()"
      ]
     },
     "execution_count": 33,
     "metadata": {},
     "output_type": "execute_result"
    }
   ],
   "source": [
    "from sklearn.ensemble import RandomForestClassifier\n",
    "rfc = RandomForestClassifier()\n",
    "rfc.fit(X_train,y_train)"
   ]
  },
  {
   "cell_type": "code",
   "execution_count": 34,
   "id": "758b77b1",
   "metadata": {},
   "outputs": [],
   "source": [
    "RandomForestClassifierScore = rfc.score(X_test,y_test)"
   ]
  },
  {
   "cell_type": "code",
   "execution_count": 35,
   "id": "96763d56",
   "metadata": {},
   "outputs": [
    {
     "data": {
      "text/plain": [
       "array([[129,  28],\n",
       "       [ 58,  53]], dtype=int64)"
      ]
     },
     "execution_count": 35,
     "metadata": {},
     "output_type": "execute_result"
    }
   ],
   "source": [
    "y_pred_rfc = rfc.predict(X_test)\n",
    "cf_matrix = confusion_matrix(y_test, y_pred_rfc)\n",
    "cf_matrix"
   ]
  },
  {
   "cell_type": "code",
   "execution_count": 36,
   "id": "99df06b8",
   "metadata": {},
   "outputs": [
    {
     "data": {
      "text/plain": [
       "Text(0.5, 1.06, 'Confusion Matrix for Random Forest Classifier')"
      ]
     },
     "execution_count": 36,
     "metadata": {},
     "output_type": "execute_result"
    },
    {
     "data": {
      "image/png": "[encoded data removed]",
      "text/plain": [
       "<Figure size 432x288 with 2 Axes>"
      ]
     },
     "metadata": {
      "needs_background": "light"
     },
     "output_type": "display_data"
    }
   ],
   "source": [
    "sns.heatmap(cf_matrix, annot=True, cmap='viridis')\n",
    "plt.title('Confusion Matrix for Random Forest Classifier',fontsize=12,y=1.06)"
   ]
  },
  {
   "cell_type": "code",
   "execution_count": 37,
   "id": "bbbbbf35",
   "metadata": {},
   "outputs": [
    {
     "name": "stdout",
     "output_type": "stream",
     "text": [
      "              precision    recall  f1-score   support\n",
      "\n",
      "           0       0.69      0.82      0.75       157\n",
      "           1       0.65      0.48      0.55       111\n",
      "\n",
      "    accuracy                           0.68       268\n",
      "   macro avg       0.67      0.65      0.65       268\n",
      "weighted avg       0.68      0.68      0.67       268\n",
      "\n"
     ]
    }
   ],
   "source": [
    "print(metrics.classification_report(y_test,y_pred_rfc))"
   ]
  },
  {
   "cell_type": "code",
   "execution_count": 38,
   "id": "b8a18682",
   "metadata": {},
   "outputs": [
    {
     "data": {
      "text/plain": [
       "67.91044776119402"
      ]
     },
     "execution_count": 38,
     "metadata": {},
     "output_type": "execute_result"
    }
   ],
   "source": [
    "RandomForestClassifierScore*100"
   ]
  },
  {
   "cell_type": "markdown",
   "id": "56e63ed3",
   "metadata": {},
   "source": [
    "### Decision Tree Classifier"
   ]
  },
  {
   "cell_type": "code",
   "execution_count": 39,
   "id": "3bbdb8f6",
   "metadata": {},
   "outputs": [
    {
     "data": {
      "text/plain": [
       "DecisionTreeClassifier()"
      ]
     },
     "execution_count": 39,
     "metadata": {},
     "output_type": "execute_result"
    }
   ],
   "source": [
    "from sklearn.tree import DecisionTreeClassifier\n",
    "dtc = DecisionTreeClassifier()\n",
    "dtc.fit(X_train,y_train)"
   ]
  },
  {
   "cell_type": "code",
   "execution_count": 40,
   "id": "da26cd7b",
   "metadata": {},
   "outputs": [],
   "source": [
    "DecisionTreeClassifierScore = dtc.score(X_test,y_test)"
   ]
  },
  {
   "cell_type": "code",
   "execution_count": 41,
   "id": "ce72a264",
   "metadata": {},
   "outputs": [
    {
     "data": {
      "text/plain": [
       "array([[118,  39],\n",
       "       [ 56,  55]], dtype=int64)"
      ]
     },
     "execution_count": 41,
     "metadata": {},
     "output_type": "execute_result"
    }
   ],
   "source": [
    "y_pred_dtc = dtc.predict(X_test)\n",
    "cf_matrix = confusion_matrix(y_test,y_pred_dtc)\n",
    "cf_matrix"
   ]
  },
  {
   "cell_type": "code",
   "execution_count": 42,
   "id": "c9acbadf",
   "metadata": {},
   "outputs": [
    {
     "data": {
      "text/plain": [
       "Text(0.5, 1.06, 'Confusion Matrix for Decision Tree Classifier')"
      ]
     },
     "execution_count": 42,
     "metadata": {},
     "output_type": "execute_result"
    },
    {
     "data": {
      "image/png": "[encoded data removed]",
      "text/plain": [
       "<Figure size 432x288 with 2 Axes>"
      ]
     },
     "metadata": {
      "needs_background": "light"
     },
     "output_type": "display_data"
    }
   ],
   "source": [
    "sns.heatmap(cf_matrix, annot=True, cmap='tab20b_r')\n",
    "plt.title(\"Confusion Matrix for Decision Tree Classifier\",fontsize=12, y=1.06)"
   ]
  },
  {
   "cell_type": "code",
   "execution_count": 43,
   "id": "fc7fbdea",
   "metadata": {},
   "outputs": [
    {
     "name": "stdout",
     "output_type": "stream",
     "text": [
      "              precision    recall  f1-score   support\n",
      "\n",
      "           0       0.68      0.75      0.71       157\n",
      "           1       0.59      0.50      0.54       111\n",
      "\n",
      "    accuracy                           0.65       268\n",
      "   macro avg       0.63      0.62      0.62       268\n",
      "weighted avg       0.64      0.65      0.64       268\n",
      "\n"
     ]
    }
   ],
   "source": [
    "print(metrics.classification_report(y_test,y_pred_dtc))"
   ]
  },
  {
   "cell_type": "code",
   "execution_count": 44,
   "id": "2f0202ee",
   "metadata": {},
   "outputs": [
    {
     "data": {
      "text/plain": [
       "64.55223880597015"
      ]
     },
     "execution_count": 44,
     "metadata": {},
     "output_type": "execute_result"
    }
   ],
   "source": [
    "DecisionTreeClassifierScore*100"
   ]
  },
  {
   "cell_type": "code",
   "execution_count": 46,
   "id": "605beb4c",
   "metadata": {},
   "outputs": [
    {
     "name": "stdout",
     "output_type": "stream",
     "text": [
      "scores : [0.6474359  0.66559486]\n",
      "mean : 0.6565153763706819\n",
      "standard deviation : 0.00907947893478439\n"
     ]
    }
   ],
   "source": [
    "from sklearn.model_selection import cross_val_score\n",
    "rf = RandomForestClassifier()\n",
    "scores = cross_val_score(rf,X_train,y_train,cv=2,scoring='accuracy')\n",
    "print(\"scores :\",scores)\n",
    "print(\"mean :\",scores.mean())\n",
    "print(\"standard deviation :\",scores.std())"
   ]
  },
  {
   "cell_type": "markdown",
   "id": "20c5a06f",
   "metadata": {},
   "source": [
    "### Accuracy of Three Machine learning Models"
   ]
  },
  {
   "cell_type": "code",
   "execution_count": 47,
   "id": "ea520baf",
   "metadata": {},
   "outputs": [
    {
     "name": "stdout",
     "output_type": "stream",
     "text": [
      "Accuracy obtained by LogisticRegressionModel :  69.02985074626866\n",
      "Accuracy obtained by RandomForestClassifierModel : 67.91044776119402\n",
      "Accuracy obtained by DecisionTreeClassifierModel : 64.55223880597015\n"
     ]
    }
   ],
   "source": [
    "print(\"Accuracy obtained by LogisticRegressionModel : \",LogisticRegressionScore*100)\n",
    "print(\"Accuracy obtained by RandomForestClassifierModel :\",RandomForestClassifierScore*100)\n",
    "print(\"Accuracy obtained by DecisionTreeClassifierModel :\",DecisionTreeClassifierScore*100)"
   ]
  },
  {
   "cell_type": "code",
   "execution_count": null,
   "id": "3dd84872",
   "metadata": {},
   "outputs": [],
   "source": []
  }
 ],
 "metadata": {
  "kernelspec": {
   "display_name": "Python 3",
   "language": "python",
   "name": "python3"
  },
  "language_info": {
   "codemirror_mode": {
    "name": "ipython",
    "version": 3
   },
   "file_extension": ".py",
   "mimetype": "text/x-python",
   "name": "python",
   "nbconvert_exporter": "python",
   "pygments_lexer": "ipython3",
   "version": "3.8.8"
  }
 },
 "nbformat": 4,
 "nbformat_minor": 5
}
